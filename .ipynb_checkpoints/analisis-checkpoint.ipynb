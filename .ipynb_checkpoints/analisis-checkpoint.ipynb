{
 "cells": [
  {
   "cell_type": "markdown",
   "id": "d560607e-6335-486d-9eb1-1d6364a385ea",
   "metadata": {},
   "source": [
    "# Practica 1 - Analisis y Regresion lineal"
   ]
  },
  {
   "cell_type": "code",
   "execution_count": 1,
   "id": "44566079-3952-424d-8ba5-cb9bbd0762f2",
   "metadata": {},
   "outputs": [],
   "source": [
    "import numpy as np\n",
    "import pandas as pd"
   ]
  },
  {
   "cell_type": "code",
   "execution_count": 2,
   "id": "7c591e64-7743-4787-ae7b-b020516f2841",
   "metadata": {},
   "outputs": [
    {
     "data": {
      "text/html": [
       "<div>\n",
       "<style scoped>\n",
       "    .dataframe tbody tr th:only-of-type {\n",
       "        vertical-align: middle;\n",
       "    }\n",
       "\n",
       "    .dataframe tbody tr th {\n",
       "        vertical-align: top;\n",
       "    }\n",
       "\n",
       "    .dataframe thead th {\n",
       "        text-align: right;\n",
       "    }\n",
       "</style>\n",
       "<table border=\"1\" class=\"dataframe\">\n",
       "  <thead>\n",
       "    <tr style=\"text-align: right;\">\n",
       "      <th></th>\n",
       "      <th>Name</th>\n",
       "      <th>Mileage</th>\n",
       "      <th>Rating</th>\n",
       "      <th>Review Count</th>\n",
       "      <th>Price</th>\n",
       "    </tr>\n",
       "  </thead>\n",
       "  <tbody>\n",
       "    <tr>\n",
       "      <th>0</th>\n",
       "      <td>2021 Mercedes-Benz A-Class A 220 4MATIC</td>\n",
       "      <td>29,636 mi.</td>\n",
       "      <td>3.9</td>\n",
       "      <td>1,800</td>\n",
       "      <td>$30,900</td>\n",
       "    </tr>\n",
       "    <tr>\n",
       "      <th>1</th>\n",
       "      <td>2022 Mercedes-Benz AMG SL 63 Base</td>\n",
       "      <td>5,540 mi.</td>\n",
       "      <td>4.7</td>\n",
       "      <td>1,239</td>\n",
       "      <td>$139,999</td>\n",
       "    </tr>\n",
       "    <tr>\n",
       "      <th>2</th>\n",
       "      <td>2022 Mercedes-Benz AMG SL 63 Base</td>\n",
       "      <td>4,890 mi.</td>\n",
       "      <td>4.7</td>\n",
       "      <td>1,239</td>\n",
       "      <td>$132,999</td>\n",
       "    </tr>\n",
       "    <tr>\n",
       "      <th>3</th>\n",
       "      <td>2020 Mercedes-Benz AMG E 53 Base 4MATIC</td>\n",
       "      <td>29,746 mi.</td>\n",
       "      <td>4.8</td>\n",
       "      <td>752</td>\n",
       "      <td>$58,587</td>\n",
       "    </tr>\n",
       "    <tr>\n",
       "      <th>4</th>\n",
       "      <td>2021 Mercedes-Benz AMG GLS 63 Base 4MATIC</td>\n",
       "      <td>32,631 mi.</td>\n",
       "      <td>5.0</td>\n",
       "      <td>1,502</td>\n",
       "      <td>$95,990</td>\n",
       "    </tr>\n",
       "    <tr>\n",
       "      <th>...</th>\n",
       "      <td>...</td>\n",
       "      <td>...</td>\n",
       "      <td>...</td>\n",
       "      <td>...</td>\n",
       "      <td>...</td>\n",
       "    </tr>\n",
       "    <tr>\n",
       "      <th>2424</th>\n",
       "      <td>2021 Mercedes-Benz E-Class E 450 4MATIC</td>\n",
       "      <td>54,422 mi.</td>\n",
       "      <td>NaN</td>\n",
       "      <td>236</td>\n",
       "      <td>$53,490</td>\n",
       "    </tr>\n",
       "    <tr>\n",
       "      <th>2425</th>\n",
       "      <td>2022 Mercedes-Benz S-Class 4MATIC</td>\n",
       "      <td>11,395 mi.</td>\n",
       "      <td>4.5</td>\n",
       "      <td>1,334</td>\n",
       "      <td>$89,599</td>\n",
       "    </tr>\n",
       "    <tr>\n",
       "      <th>2426</th>\n",
       "      <td>2021 Mercedes-Benz GLB 250 Base 4MATIC</td>\n",
       "      <td>30,392 mi.</td>\n",
       "      <td>4.9</td>\n",
       "      <td>2,375</td>\n",
       "      <td>$32,890</td>\n",
       "    </tr>\n",
       "    <tr>\n",
       "      <th>2427</th>\n",
       "      <td>2023 Mercedes-Benz E-Class E 450 4MATIC</td>\n",
       "      <td>3,413 mi.</td>\n",
       "      <td>4.8</td>\n",
       "      <td>1,758</td>\n",
       "      <td>$53,983</td>\n",
       "    </tr>\n",
       "    <tr>\n",
       "      <th>2428</th>\n",
       "      <td>2023 Mercedes-Benz GLA 250 Base</td>\n",
       "      <td>6,336 mi.</td>\n",
       "      <td>4.5</td>\n",
       "      <td>2,057</td>\n",
       "      <td>$46,035</td>\n",
       "    </tr>\n",
       "  </tbody>\n",
       "</table>\n",
       "<p>2429 rows × 5 columns</p>\n",
       "</div>"
      ],
      "text/plain": [
       "                                           Name     Mileage  Rating  \\\n",
       "0       2021 Mercedes-Benz A-Class A 220 4MATIC  29,636 mi.     3.9   \n",
       "1             2022 Mercedes-Benz AMG SL 63 Base   5,540 mi.     4.7   \n",
       "2             2022 Mercedes-Benz AMG SL 63 Base   4,890 mi.     4.7   \n",
       "3       2020 Mercedes-Benz AMG E 53 Base 4MATIC  29,746 mi.     4.8   \n",
       "4     2021 Mercedes-Benz AMG GLS 63 Base 4MATIC  32,631 mi.     5.0   \n",
       "...                                         ...         ...     ...   \n",
       "2424    2021 Mercedes-Benz E-Class E 450 4MATIC  54,422 mi.     NaN   \n",
       "2425          2022 Mercedes-Benz S-Class 4MATIC  11,395 mi.     4.5   \n",
       "2426     2021 Mercedes-Benz GLB 250 Base 4MATIC  30,392 mi.     4.9   \n",
       "2427    2023 Mercedes-Benz E-Class E 450 4MATIC   3,413 mi.     4.8   \n",
       "2428            2023 Mercedes-Benz GLA 250 Base   6,336 mi.     4.5   \n",
       "\n",
       "     Review Count     Price  \n",
       "0          1,800    $30,900  \n",
       "1          1,239   $139,999  \n",
       "2          1,239   $132,999  \n",
       "3            752    $58,587  \n",
       "4          1,502    $95,990  \n",
       "...           ...       ...  \n",
       "2424         236    $53,490  \n",
       "2425       1,334    $89,599  \n",
       "2426       2,375    $32,890  \n",
       "2427       1,758    $53,983  \n",
       "2428       2,057    $46,035  \n",
       "\n",
       "[2429 rows x 5 columns]"
      ]
     },
     "execution_count": 2,
     "metadata": {},
     "output_type": "execute_result"
    }
   ],
   "source": [
    "# Importar el csv por medio de pandas\n",
    "df = pd.read_csv('usa_mercedes_benz_prices.csv')\n",
    "\n",
    "df"
   ]
  },
  {
   "cell_type": "code",
   "execution_count": 3,
   "id": "13abc476-2579-4294-95ed-12bccc6a78b0",
   "metadata": {},
   "outputs": [
    {
     "data": {
      "text/plain": [
       "count    2135.000000\n",
       "mean        4.533724\n",
       "std         0.386506\n",
       "min         2.100000\n",
       "25%         4.400000\n",
       "50%         4.600000\n",
       "75%         4.800000\n",
       "max         5.000000\n",
       "Name: Rating, dtype: float64"
      ]
     },
     "execution_count": 3,
     "metadata": {},
     "output_type": "execute_result"
    }
   ],
   "source": [
    "df['Rating'].describe()"
   ]
  },
  {
   "cell_type": "markdown",
   "id": "5e9eddc1-42ae-4641-bb28-8358997b7b8b",
   "metadata": {},
   "source": [
    "Interesante: rango de puntuaciones 0 ~ 5."
   ]
  },
  {
   "cell_type": "markdown",
   "id": "9033bd17-d063-4281-b134-b01932401bd0",
   "metadata": {},
   "source": [
    "## Limpieza"
   ]
  },
  {
   "cell_type": "code",
   "execution_count": 4,
   "id": "e2363f89-eb64-44ef-bb14-b229ee6a4c58",
   "metadata": {},
   "outputs": [],
   "source": [
    "df.fillna(df['Rating'].mean(), inplace = True)"
   ]
  },
  {
   "cell_type": "code",
   "execution_count": 5,
   "id": "d648e06b-7f61-4393-bafc-ef87a00417f6",
   "metadata": {},
   "outputs": [],
   "source": [
    "def limpiar_precios(row):\n",
    "    try:\n",
    "        return int(row.replace(',','').replace('$',''))\n",
    "    except ValueError:\n",
    "        return np.nan"
   ]
  },
  {
   "cell_type": "code",
   "execution_count": 6,
   "id": "81dd8f77-8946-4c13-a6d1-8c17adf06084",
   "metadata": {},
   "outputs": [],
   "source": [
    "df['Price'] = df['Price'].apply(limpiar_precios)"
   ]
  },
  {
   "cell_type": "code",
   "execution_count": 7,
   "id": "5ef4a1bf-858b-4603-a663-ac2c529f2906",
   "metadata": {},
   "outputs": [],
   "source": [
    "df['Year'] = df['Name'].apply(lambda row: int(row[:4]))"
   ]
  },
  {
   "cell_type": "code",
   "execution_count": 8,
   "id": "ed20d482-d769-49ef-81f9-d41c12275e53",
   "metadata": {},
   "outputs": [],
   "source": [
    "def change_review_dtype(row):\n",
    "    try:\n",
    "        return int(row.replace(',',''))\n",
    "    except AttributeError:\n",
    "        return row\n",
    "        "
   ]
  },
  {
   "cell_type": "code",
   "execution_count": 9,
   "id": "09e92a26-5c54-487b-98fb-75319f89a351",
   "metadata": {},
   "outputs": [],
   "source": [
    "df['Review Count'] = df['Review Count'].apply(change_review_dtype)"
   ]
  },
  {
   "cell_type": "code",
   "execution_count": 10,
   "id": "2c30f5ca-1bec-450e-be5a-431694e19cd0",
   "metadata": {},
   "outputs": [],
   "source": [
    "def mile_to_kilometer(row):\n",
    "    int_val: int = int(row.replace(',','')[:-4])\n",
    "    return 1.60934 * int_val"
   ]
  },
  {
   "cell_type": "code",
   "execution_count": 11,
   "id": "66e90e45-1b01-4640-a8f8-312622a751b4",
   "metadata": {},
   "outputs": [],
   "source": [
    "df['Kilometerage'] = df['Mileage'].apply(mile_to_kilometer)"
   ]
  },
  {
   "cell_type": "code",
   "execution_count": 12,
   "id": "1b7fe625-87eb-45b9-a332-4640a8cb7db3",
   "metadata": {},
   "outputs": [],
   "source": [
    "df.drop(['Name', 'Mileage'], axis = 1, inplace = True)"
   ]
  },
  {
   "cell_type": "code",
   "execution_count": 15,
   "id": "3f0a7343-9d0f-4056-aecf-d3f62e5e489d",
   "metadata": {},
   "outputs": [],
   "source": [
    "df.dropna(inplace = True)"
   ]
  },
  {
   "cell_type": "code",
   "execution_count": 16,
   "id": "49173023-d15e-46a3-99c1-ee3f34488e83",
   "metadata": {},
   "outputs": [
    {
     "data": {
      "text/html": [
       "<div>\n",
       "<style scoped>\n",
       "    .dataframe tbody tr th:only-of-type {\n",
       "        vertical-align: middle;\n",
       "    }\n",
       "\n",
       "    .dataframe tbody tr th {\n",
       "        vertical-align: top;\n",
       "    }\n",
       "\n",
       "    .dataframe thead th {\n",
       "        text-align: right;\n",
       "    }\n",
       "</style>\n",
       "<table border=\"1\" class=\"dataframe\">\n",
       "  <thead>\n",
       "    <tr style=\"text-align: right;\">\n",
       "      <th></th>\n",
       "      <th>Rating</th>\n",
       "      <th>Review Count</th>\n",
       "      <th>Price</th>\n",
       "      <th>Year</th>\n",
       "      <th>Kilometerage</th>\n",
       "    </tr>\n",
       "  </thead>\n",
       "  <tbody>\n",
       "    <tr>\n",
       "      <th>0</th>\n",
       "      <td>3.900000</td>\n",
       "      <td>1800.0</td>\n",
       "      <td>30900.0</td>\n",
       "      <td>2021</td>\n",
       "      <td>47694.40024</td>\n",
       "    </tr>\n",
       "    <tr>\n",
       "      <th>1</th>\n",
       "      <td>4.700000</td>\n",
       "      <td>1239.0</td>\n",
       "      <td>139999.0</td>\n",
       "      <td>2022</td>\n",
       "      <td>8915.74360</td>\n",
       "    </tr>\n",
       "    <tr>\n",
       "      <th>2</th>\n",
       "      <td>4.700000</td>\n",
       "      <td>1239.0</td>\n",
       "      <td>132999.0</td>\n",
       "      <td>2022</td>\n",
       "      <td>7869.67260</td>\n",
       "    </tr>\n",
       "    <tr>\n",
       "      <th>3</th>\n",
       "      <td>4.800000</td>\n",
       "      <td>752.0</td>\n",
       "      <td>58587.0</td>\n",
       "      <td>2020</td>\n",
       "      <td>47871.42764</td>\n",
       "    </tr>\n",
       "    <tr>\n",
       "      <th>4</th>\n",
       "      <td>5.000000</td>\n",
       "      <td>1502.0</td>\n",
       "      <td>95990.0</td>\n",
       "      <td>2021</td>\n",
       "      <td>52514.37354</td>\n",
       "    </tr>\n",
       "    <tr>\n",
       "      <th>...</th>\n",
       "      <td>...</td>\n",
       "      <td>...</td>\n",
       "      <td>...</td>\n",
       "      <td>...</td>\n",
       "      <td>...</td>\n",
       "    </tr>\n",
       "    <tr>\n",
       "      <th>2424</th>\n",
       "      <td>4.533724</td>\n",
       "      <td>236.0</td>\n",
       "      <td>53490.0</td>\n",
       "      <td>2021</td>\n",
       "      <td>87583.50148</td>\n",
       "    </tr>\n",
       "    <tr>\n",
       "      <th>2425</th>\n",
       "      <td>4.500000</td>\n",
       "      <td>1334.0</td>\n",
       "      <td>89599.0</td>\n",
       "      <td>2022</td>\n",
       "      <td>18338.42930</td>\n",
       "    </tr>\n",
       "    <tr>\n",
       "      <th>2426</th>\n",
       "      <td>4.900000</td>\n",
       "      <td>2375.0</td>\n",
       "      <td>32890.0</td>\n",
       "      <td>2021</td>\n",
       "      <td>48911.06128</td>\n",
       "    </tr>\n",
       "    <tr>\n",
       "      <th>2427</th>\n",
       "      <td>4.800000</td>\n",
       "      <td>1758.0</td>\n",
       "      <td>53983.0</td>\n",
       "      <td>2023</td>\n",
       "      <td>5492.67742</td>\n",
       "    </tr>\n",
       "    <tr>\n",
       "      <th>2428</th>\n",
       "      <td>4.500000</td>\n",
       "      <td>2057.0</td>\n",
       "      <td>46035.0</td>\n",
       "      <td>2023</td>\n",
       "      <td>10196.77824</td>\n",
       "    </tr>\n",
       "  </tbody>\n",
       "</table>\n",
       "<p>2428 rows × 5 columns</p>\n",
       "</div>"
      ],
      "text/plain": [
       "        Rating  Review Count     Price  Year  Kilometerage\n",
       "0     3.900000        1800.0   30900.0  2021   47694.40024\n",
       "1     4.700000        1239.0  139999.0  2022    8915.74360\n",
       "2     4.700000        1239.0  132999.0  2022    7869.67260\n",
       "3     4.800000         752.0   58587.0  2020   47871.42764\n",
       "4     5.000000        1502.0   95990.0  2021   52514.37354\n",
       "...        ...           ...       ...   ...           ...\n",
       "2424  4.533724         236.0   53490.0  2021   87583.50148\n",
       "2425  4.500000        1334.0   89599.0  2022   18338.42930\n",
       "2426  4.900000        2375.0   32890.0  2021   48911.06128\n",
       "2427  4.800000        1758.0   53983.0  2023    5492.67742\n",
       "2428  4.500000        2057.0   46035.0  2023   10196.77824\n",
       "\n",
       "[2428 rows x 5 columns]"
      ]
     },
     "execution_count": 16,
     "metadata": {},
     "output_type": "execute_result"
    }
   ],
   "source": [
    "df"
   ]
  },
  {
   "cell_type": "code",
   "execution_count": 18,
   "id": "0a1e2a93-f52b-4d27-b2a3-ac15c3c373dc",
   "metadata": {},
   "outputs": [],
   "source": [
    "df1 = df.loc[:, ['Year', 'Price']].groupby('Year').mean()"
   ]
  },
  {
   "cell_type": "markdown",
   "id": "a2263dec-efb9-48ce-afa0-cec36fa2aaf4",
   "metadata": {},
   "source": [
    "# Entrenamiento del modelo"
   ]
  },
  {
   "cell_type": "code",
   "execution_count": 20,
   "id": "39772010-e77e-437d-bd50-b846a0b641ca",
   "metadata": {},
   "outputs": [
    {
     "data": {
      "text/html": [
       "<style>#sk-container-id-1 {color: black;}#sk-container-id-1 pre{padding: 0;}#sk-container-id-1 div.sk-toggleable {background-color: white;}#sk-container-id-1 label.sk-toggleable__label {cursor: pointer;display: block;width: 100%;margin-bottom: 0;padding: 0.3em;box-sizing: border-box;text-align: center;}#sk-container-id-1 label.sk-toggleable__label-arrow:before {content: \"▸\";float: left;margin-right: 0.25em;color: #696969;}#sk-container-id-1 label.sk-toggleable__label-arrow:hover:before {color: black;}#sk-container-id-1 div.sk-estimator:hover label.sk-toggleable__label-arrow:before {color: black;}#sk-container-id-1 div.sk-toggleable__content {max-height: 0;max-width: 0;overflow: hidden;text-align: left;background-color: #f0f8ff;}#sk-container-id-1 div.sk-toggleable__content pre {margin: 0.2em;color: black;border-radius: 0.25em;background-color: #f0f8ff;}#sk-container-id-1 input.sk-toggleable__control:checked~div.sk-toggleable__content {max-height: 200px;max-width: 100%;overflow: auto;}#sk-container-id-1 input.sk-toggleable__control:checked~label.sk-toggleable__label-arrow:before {content: \"▾\";}#sk-container-id-1 div.sk-estimator input.sk-toggleable__control:checked~label.sk-toggleable__label {background-color: #d4ebff;}#sk-container-id-1 div.sk-label input.sk-toggleable__control:checked~label.sk-toggleable__label {background-color: #d4ebff;}#sk-container-id-1 input.sk-hidden--visually {border: 0;clip: rect(1px 1px 1px 1px);clip: rect(1px, 1px, 1px, 1px);height: 1px;margin: -1px;overflow: hidden;padding: 0;position: absolute;width: 1px;}#sk-container-id-1 div.sk-estimator {font-family: monospace;background-color: #f0f8ff;border: 1px dotted black;border-radius: 0.25em;box-sizing: border-box;margin-bottom: 0.5em;}#sk-container-id-1 div.sk-estimator:hover {background-color: #d4ebff;}#sk-container-id-1 div.sk-parallel-item::after {content: \"\";width: 100%;border-bottom: 1px solid gray;flex-grow: 1;}#sk-container-id-1 div.sk-label:hover label.sk-toggleable__label {background-color: #d4ebff;}#sk-container-id-1 div.sk-serial::before {content: \"\";position: absolute;border-left: 1px solid gray;box-sizing: border-box;top: 0;bottom: 0;left: 50%;z-index: 0;}#sk-container-id-1 div.sk-serial {display: flex;flex-direction: column;align-items: center;background-color: white;padding-right: 0.2em;padding-left: 0.2em;position: relative;}#sk-container-id-1 div.sk-item {position: relative;z-index: 1;}#sk-container-id-1 div.sk-parallel {display: flex;align-items: stretch;justify-content: center;background-color: white;position: relative;}#sk-container-id-1 div.sk-item::before, #sk-container-id-1 div.sk-parallel-item::before {content: \"\";position: absolute;border-left: 1px solid gray;box-sizing: border-box;top: 0;bottom: 0;left: 50%;z-index: -1;}#sk-container-id-1 div.sk-parallel-item {display: flex;flex-direction: column;z-index: 1;position: relative;background-color: white;}#sk-container-id-1 div.sk-parallel-item:first-child::after {align-self: flex-end;width: 50%;}#sk-container-id-1 div.sk-parallel-item:last-child::after {align-self: flex-start;width: 50%;}#sk-container-id-1 div.sk-parallel-item:only-child::after {width: 0;}#sk-container-id-1 div.sk-dashed-wrapped {border: 1px dashed gray;margin: 0 0.4em 0.5em 0.4em;box-sizing: border-box;padding-bottom: 0.4em;background-color: white;}#sk-container-id-1 div.sk-label label {font-family: monospace;font-weight: bold;display: inline-block;line-height: 1.2em;}#sk-container-id-1 div.sk-label-container {text-align: center;}#sk-container-id-1 div.sk-container {/* jupyter's `normalize.less` sets `[hidden] { display: none; }` but bootstrap.min.css set `[hidden] { display: none !important; }` so we also need the `!important` here to be able to override the default hidden behavior on the sphinx rendered scikit-learn.org. See: https://github.com/scikit-learn/scikit-learn/issues/21755 */display: inline-block !important;position: relative;}#sk-container-id-1 div.sk-text-repr-fallback {display: none;}</style><div id=\"sk-container-id-1\" class=\"sk-top-container\"><div class=\"sk-text-repr-fallback\"><pre>LinearRegression()</pre><b>In a Jupyter environment, please rerun this cell to show the HTML representation or trust the notebook. <br />On GitHub, the HTML representation is unable to render, please try loading this page with nbviewer.org.</b></div><div class=\"sk-container\" hidden><div class=\"sk-item\"><div class=\"sk-estimator sk-toggleable\"><input class=\"sk-toggleable__control sk-hidden--visually\" id=\"sk-estimator-id-1\" type=\"checkbox\" checked><label for=\"sk-estimator-id-1\" class=\"sk-toggleable__label sk-toggleable__label-arrow\">LinearRegression</label><div class=\"sk-toggleable__content\"><pre>LinearRegression()</pre></div></div></div></div></div>"
      ],
      "text/plain": [
       "LinearRegression()"
      ]
     },
     "execution_count": 20,
     "metadata": {},
     "output_type": "execute_result"
    }
   ],
   "source": [
    "from sklearn.linear_model import LinearRegression\n",
    "\n",
    "model = LinearRegression()\n",
    "\n",
    "model.fit(df1.index.values.reshape(-1, 1), df1['Price'].values.reshape(-1, 1))"
   ]
  },
  {
   "cell_type": "markdown",
   "id": "7264d385-0f09-4529-a823-0d3641479ef6",
   "metadata": {},
   "source": [
    "# Visualizacion"
   ]
  },
  {
   "cell_type": "code",
   "execution_count": 35,
   "id": "bf325664-a704-4edb-add2-d388fd052d91",
   "metadata": {},
   "outputs": [
    {
     "data": {
      "text/plain": [
       "[<matplotlib.lines.Line2D at 0x7d70894c4100>]"
      ]
     },
     "execution_count": 35,
     "metadata": {},
     "output_type": "execute_result"
    },
    {
     "data": {
      "image/png": "[encoded data removed]",
      "text/plain": [
       "<Figure size 640x480 with 1 Axes>"
      ]
     },
     "metadata": {},
     "output_type": "display_data"
    }
   ],
   "source": [
    "import matplotlib.pyplot as plt\n",
    "range_ = np.arange(2014, 2031, 1)\n",
    "fig, ax = plt.subplots()\n",
    "ax.set(ylim = [20000, 120000], xlim = [2014, 2030])\n",
    "ax.scatter(df1.index.values.reshape(-1, 1), df1['Price'].values.reshape(-1, 1))\n",
    "ax.plot(range_, model.predict(range_.reshape(-1, 1)), color = 'red')"
   ]
  },
  {
   "cell_type": "markdown",
   "id": "c1b6eb16-a5f1-4370-8d9c-771c00359910",
   "metadata": {},
   "source": [
    "# Tarea\n",
    "Analisis profundo de otras posibilidades de inferencia, ingienieria de datos, etc."
   ]
  }
 ],
 "metadata": {
  "kernelspec": {
   "display_name": "Python 3 (ipykernel)",
   "language": "python",
   "name": "python3"
  },
  "language_info": {
   "codemirror_mode": {
    "name": "ipython",
    "version": 3
   },
   "file_extension": ".py",
   "mimetype": "text/x-python",
   "name": "python",
   "nbconvert_exporter": "python",
   "pygments_lexer": "ipython3",
   "version": "3.10.12"
  }
 },
 "nbformat": 4,
 "nbformat_minor": 5
}
